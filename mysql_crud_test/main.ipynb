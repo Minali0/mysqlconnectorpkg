{
 "cells": [
  {
   "cell_type": "code",
   "execution_count": 1,
   "metadata": {},
   "outputs": [],
   "source": [
    "import os"
   ]
  },
  {
   "cell_type": "code",
   "execution_count": 2,
   "metadata": {},
   "outputs": [],
   "source": [
    "from mysql_connect import mysql_crud\n",
    "\n",
    "mysql_connector = mysql_crud.mysql_operation(\n",
    "    host=\"localhost\",\n",
    "    user=\"root\",\n",
    "    password=\"Seaflux@1\"\n",
    ")"
   ]
  },
  {
   "cell_type": "code",
   "execution_count": 4,
   "metadata": {},
   "outputs": [
    {
     "name": "stdout",
     "output_type": "stream",
     "text": [
      "Connected to MySQL database\n"
     ]
    },
    {
     "data": {
      "text/plain": [
       "<mysql.connector.connection_cext.CMySQLConnection at 0x7ff17be5ed50>"
      ]
     },
     "execution_count": 4,
     "metadata": {},
     "output_type": "execute_result"
    }
   ],
   "source": [
    "mysql_connector.create_connection()\n"
   ]
  },
  {
   "cell_type": "code",
   "execution_count": 5,
   "metadata": {},
   "outputs": [
    {
     "name": "stdout",
     "output_type": "stream",
     "text": [
      "Connected to MySQL server\n",
      "Database 'demo_1' created or already exists.\n",
      "MySQL connection is closed.\n"
     ]
    }
   ],
   "source": [
    "# database_name = \"demo\"\n",
    "mysql_connector.create_database('demo_1')"
   ]
  },
  {
   "cell_type": "code",
   "execution_count": 6,
   "metadata": {},
   "outputs": [],
   "source": [
    "create_table_sql = \"\"\"\n",
    "CREATE TABLE students (\n",
    "    name VARCHAR(100) NOT NULL,\n",
    "    age VARCHAR(100) NOT NULL\n",
    ");\n",
    "\"\"\"                                         "
   ]
  },
  {
   "cell_type": "code",
   "execution_count": 7,
   "metadata": {},
   "outputs": [],
   "source": [
    "database_name='demo_1'"
   ]
  },
  {
   "cell_type": "code",
   "execution_count": 8,
   "metadata": {},
   "outputs": [
    {
     "name": "stdout",
     "output_type": "stream",
     "text": [
      "Connected to MySQL database: demo_1\n",
      "Table created successfully.\n",
      "MySQL connection is closed.\n"
     ]
    },
    {
     "data": {
      "text/plain": [
       "True"
      ]
     },
     "execution_count": 8,
     "metadata": {},
     "output_type": "execute_result"
    }
   ],
   "source": [
    "mysql_connector.create_table(create_table_sql,database_name)"
   ]
  },
  {
   "cell_type": "code",
   "execution_count": 9,
   "metadata": {},
   "outputs": [
    {
     "name": "stdout",
     "output_type": "stream",
     "text": [
      "Single record inserted into students.\n"
     ]
    }
   ],
   "source": [
    "# Example usage of one insert_record\n",
    "record = {\n",
    "    'name': 'John Doe',\n",
    "    'age': '50'\n",
    "}\n",
    "mysql_connector.insert_single_record(record=record,table_name=\"students\", database_name='demo_1')\n"
   ]
  },
  {
   "cell_type": "code",
   "execution_count": 10,
   "metadata": {},
   "outputs": [
    {
     "name": "stdout",
     "output_type": "stream",
     "text": [
      "Multiple records inserted into students.\n"
     ]
    }
   ],
   "source": [
    "# Example usage of many insert_record\n",
    "record =[\n",
    "    {'name': 'Abhisek','age': '55'},\n",
    "    {'name': 'Amitabh','age':'81'},\n",
    "    {'name':'Ashwaria','age':'50'}    \n",
    "]\n",
    "mysql_connector.insert_multiple_records(records=record, table_name=\"students\", database_name='demo_1')\n"
   ]
  },
  {
   "cell_type": "code",
   "execution_count": 11,
   "metadata": {},
   "outputs": [
    {
     "name": "stdout",
     "output_type": "stream",
     "text": [
      "Bulk insert completed.\n"
     ]
    }
   ],
   "source": [
    "datafile = '/home/seaflux/Documents/mysql_crud_test/students.csv'\n",
    "mysql_connector.bulk_insert(datafile=datafile, table_name='students',database_name='demo_1',unique_field='name'\n",
    ")"
   ]
  },
  {
   "cell_type": "code",
   "execution_count": 12,
   "metadata": {},
   "outputs": [
    {
     "name": "stdout",
     "output_type": "stream",
     "text": [
      "[{'name': 'John Doe', 'age': '50'}, {'name': 'Abhisek', 'age': '55'}, {'name': 'Amitabh', 'age': '81'}, {'name': 'Ashwaria', 'age': '50'}, {'name': 'anmol', 'age': '12'}, {'name': 'anudep', 'age': '25'}, {'name': 'minali', 'age': '28'}]\n"
     ]
    }
   ],
   "source": [
    "# Find all records in the 'students' table\n",
    "database_name = 'demo_1'\n",
    "records = mysql_connector.find(table_name=\"students\",database_name=database_name)\n",
    "print(records)"
   ]
  },
  {
   "cell_type": "code",
   "execution_count": 13,
   "metadata": {},
   "outputs": [
    {
     "name": "stdout",
     "output_type": "stream",
     "text": [
      "[{'name': 'John Doe', 'age': '50'}, {'name': 'Abhisek', 'age': '55'}, {'name': 'Amitabh', 'age': '81'}, {'name': 'Ashwaria', 'age': '50'}, {'name': 'anmol', 'age': '12'}, {'name': 'anudep', 'age': '25'}, {'name': 'minali', 'age': '28'}]\n"
     ]
    }
   ],
   "source": [
    "# Find all records in the 'students' table\n",
    "database_name = 'demo_1'\n",
    "records = mysql_connector.find(table_name=\"students\",database_name=database_name)\n",
    "print(records)"
   ]
  },
  {
   "cell_type": "code",
   "execution_count": 14,
   "metadata": {},
   "outputs": [
    {
     "name": "stdout",
     "output_type": "stream",
     "text": [
      "[{'name': 'minali', 'age': '28'}]\n"
     ]
    }
   ],
   "source": [
    "# Find records where the 'name' is 'Alice' and 'age' is 30\n",
    "query = {'name': 'minali', 'age': 28}\n",
    "records = mysql_connector.find(query=query, table_name=\"students\",database_name=database_name)\n",
    "print(records)"
   ]
  },
  {
   "cell_type": "code",
   "execution_count": 15,
   "metadata": {},
   "outputs": [
    {
     "name": "stdout",
     "output_type": "stream",
     "text": [
      "Record(s) updated in students where {'name': 'minali'}.\n"
     ]
    }
   ],
   "source": [
    "query = {'name': 'minali'}\n",
    "new_values = {'age': 30}\n",
    "database_name='demo_1'\n",
    "\n",
    "mysql_connector.update(query=query, new_values=new_values,table_name=\"students\",database_name=database_name)\n"
   ]
  },
  {
   "cell_type": "code",
   "execution_count": 16,
   "metadata": {},
   "outputs": [
    {
     "name": "stdout",
     "output_type": "stream",
     "text": [
      "Record(s) deleted from students where {'name': 'John Doe', 'age': 50}.\n"
     ]
    }
   ],
   "source": [
    "query = {'name': \"John Doe\", 'age': 50}\n",
    "mysql_connector.delete(query=query,table_name='students',database_name='demo_1')\n"
   ]
  },
  {
   "cell_type": "code",
   "execution_count": null,
   "metadata": {},
   "outputs": [],
   "source": []
  }
 ],
 "metadata": {
  "kernelspec": {
   "display_name": "venv",
   "language": "python",
   "name": "python3"
  },
  "language_info": {
   "codemirror_mode": {
    "name": "ipython",
    "version": 3
   },
   "file_extension": ".py",
   "mimetype": "text/x-python",
   "name": "python",
   "nbconvert_exporter": "python",
   "pygments_lexer": "ipython3",
   "version": "3.11.9"
  }
 },
 "nbformat": 4,
 "nbformat_minor": 2
}
