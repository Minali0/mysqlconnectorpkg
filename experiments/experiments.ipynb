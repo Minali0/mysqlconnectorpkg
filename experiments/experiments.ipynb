{
 "cells": [
  {
   "cell_type": "code",
   "execution_count": 1,
   "metadata": {},
   "outputs": [],
   "source": [
    "import os"
   ]
  },
  {
   "cell_type": "code",
   "execution_count": 3,
   "metadata": {},
   "outputs": [
    {
     "name": "stdout",
     "output_type": "stream",
     "text": [
      "Connected to MySQL!\n"
     ]
    }
   ],
   "source": [
    "import mysql.connector\n",
    "from mysql.connector import Error\n",
    "# Establish connection\n",
    "mydb = mysql.connector.connect(\n",
    "   host=\"hostname\",\n",
    "    user=\"username\",\n",
    "    password=\"<password>\"\n",
    "\n",
    ")\n",
    "\n",
    "# Check if connection was successful\n",
    "if mydb.is_connected():\n",
    "  print(\"Connected to MySQL!\")\n",
    "    \n",
    "else:\n",
    "  print(\"Failed to connect to MySQL\")"
   ]
  },
  {
   "cell_type": "code",
   "execution_count": null,
   "metadata": {},
   "outputs": [],
   "source": [
    "# Specify the name of the new database to create\n",
    "db_name = \"youtubecommunity\"\n",
    "\n",
    "# Create a cursor object to execute SQL queries\n",
    "mycursor = mydb.cursor()\n",
    "\n",
    "# Execute the SQL query to create a new database\n",
    "mycursor.execute(f\"CREATE DATABASE {db_name}\")\n",
    "\n",
    "print(f\"Database '{db_name}' created successfully!\")\n"
   ]
  },
  {
   "cell_type": "code",
   "execution_count": 5,
   "metadata": {},
   "outputs": [
    {
     "name": "stdout",
     "output_type": "stream",
     "text": [
      "('demo',)\n",
      "('information_schema',)\n",
      "('mysql',)\n",
      "('performance_schema',)\n",
      "('sys',)\n",
      "('youtubecommunity',)\n"
     ]
    }
   ],
   "source": [
    "# show databases :-\n",
    "\n",
    "# Create a cursor object to execute SQL queries\n",
    "mycursor = mydb.cursor()\n",
    "\n",
    "# Execute the SQL query to create a new database\n",
    "mycursor.execute(\"SHOW DATABASES\")\n",
    "\n",
    "for db in mycursor:\n",
    "    print(db)\n"
   ]
  },
  {
   "cell_type": "code",
   "execution_count": null,
   "metadata": {},
   "outputs": [],
   "source": [
    "# create table\n",
    "\n",
    "mydb = mysql.connector.connect(\n",
    "    host=\"hostname\",\n",
    "    user=\"username\",\n",
    "    password=\"<password>\",\n",
    "    database_name=\"<database_name>\"\n",
    ")\n",
    "mycursor = mydb.cursor()\n",
    "\n",
    "mycursor.execute(\"CREATE TABLE students (name VARCHAR(255), age INTEGER(10))\")\n"
   ]
  },
  {
   "cell_type": "code",
   "execution_count": 7,
   "metadata": {},
   "outputs": [
    {
     "name": "stdout",
     "output_type": "stream",
     "text": [
      "('students',)\n"
     ]
    }
   ],
   "source": [
    "# show tables \n",
    "\n",
    "mycursor.execute(\"SHOW TABLES\")\n",
    "\n",
    "for tb in mycursor:\n",
    "    print(tb)"
   ]
  },
  {
   "cell_type": "code",
   "execution_count": 7,
   "metadata": {},
   "outputs": [],
   "source": [
    "# add data in tables\n",
    "\n",
    "sqlFormula = \"INSERT INTO students (name,age) VALUES (%s,%s)\"\n",
    "students =  [(\"Bob\",22),\n",
    "             (\"Aman\",23),\n",
    "             (\"Rahul\",24),\n",
    "             (\"Jacob\",25),\n",
    "             (\"Michalle\",27)]\n",
    "\n",
    "mycursor.executemany(sqlFormula,students)\n",
    "mydb.commit()"
   ]
  },
  {
   "cell_type": "code",
   "execution_count": 226,
   "metadata": {},
   "outputs": [],
   "source": [
    "import mysql.connector\n",
    "from mysql.connector import Error\n",
    "import pandas as pd\n",
    "import json\n",
    "from typing import Any , Optional , List, Dict , Union\n",
    "from ensure import ensure_annotations\n",
    "\n",
    "class mysql_operation:\n",
    "    @ensure_annotations \n",
    "    def __init__(self, host: str, user: str, password: str):\n",
    "        self.host = host\n",
    "        self.user = user\n",
    "        self.password = password\n",
    "    \n",
    "    @ensure_annotations \n",
    "    def create_connection(self):\n",
    "        \"\"\"Create a MySQL connection.\"\"\"\n",
    "        try:\n",
    "            connection = mysql.connector.connect(\n",
    "                host=self.host,\n",
    "                user=self.user,\n",
    "                password=self.password,\n",
    "            )\n",
    "            if connection.is_connected():\n",
    "                print(\"Connected to MySQL database\")\n",
    "            return connection\n",
    "        except Error as e:\n",
    "            print(f\"Error while connecting to MySQL: {e}\")\n",
    "            return None\n",
    "\n",
    "    @ensure_annotations \n",
    "    def create_database(self,database_name:Optional[str] = None):\n",
    "        \"\"\"Create a MySQL database if it doesn't exist.\"\"\"\n",
    "        connection = None\n",
    "        cursor = None\n",
    "        \n",
    "        try:\n",
    "            # Connect to the MySQL server (no specific database mentioned yet)\n",
    "            connection = mysql.connector.connect(\n",
    "                host=self.host,\n",
    "                user=self.user,\n",
    "                password=self.password\n",
    "            )\n",
    "            if connection.is_connected():\n",
    "                print(\"Connected to MySQL server\")\n",
    "\n",
    "            cursor = connection.cursor()\n",
    "\n",
    "            # Create the database if it doesn't exist\n",
    "            cursor.execute(f\"CREATE DATABASE IF NOT EXISTS {database_name}\")\n",
    "            print(f\"Database '{database_name}' created or already exists.\")\n",
    "\n",
    "        except Error as e:\n",
    "            print(f\"Error creating database: {e}\")\n",
    "\n",
    "        finally:\n",
    "            # Close cursor and connection\n",
    "            if cursor:\n",
    "                cursor.close()\n",
    "            if connection:\n",
    "                connection.close()\n",
    "            print(\"MySQL connection is closed.\")\n",
    "            \n",
    "    @ensure_annotations \n",
    "    def create_table(self, create_table_sql: str,database_name:Optional[str] = None):\n",
    "        \"\"\"Create a table in the specified MySQL database using a SQL query.\"\"\"\n",
    "        connection = None\n",
    "        cursor = None\n",
    "        \n",
    "        try:\n",
    "            # Connect to the MySQL server (specify the database now)\n",
    "            connection = mysql.connector.connect(\n",
    "                host=self.host,\n",
    "                user=self.user,\n",
    "                password=self.password,\n",
    "                database=database_name  # Now include the database name\n",
    "            )\n",
    "            if connection.is_connected():\n",
    "                print(f\"Connected to MySQL database: {database_name}\")\n",
    "\n",
    "            cursor = connection.cursor()\n",
    "            cursor.execute(create_table_sql)\n",
    "            print(\"Table created successfully.\")\n",
    "            return True\n",
    "            \n",
    "        except Error as e:\n",
    "            print(f\"Error creating table: {e}\")\n",
    "            return None \n",
    "            \n",
    "        finally:\n",
    "            if cursor:\n",
    "                cursor.close()\n",
    "            if connection:\n",
    "                connection.close()\n",
    "            print(\"MySQL connection is closed.\")\n",
    "            \n",
    "            \n",
    "    # def insert_record(self,record: Union[dict, List[dict]] = {},table_name: Optional[str] = None,database_name:Optional[str] = None):\n",
    "    #     \"\"\"Insert one or many records into the specified MySQL table.\"\"\"\n",
    "    #     connection = mysql.connector.connect(\n",
    "    #     host=self.host,\n",
    "    #     user=self.user,\n",
    "    #     password=self.password,\n",
    "    #     database=database_name  # Specify the database here\n",
    "    # )\n",
    "    #     cursor = connection.cursor()\n",
    "\n",
    "    #     if isinstance(record, list):\n",
    "    #         # Ensure all items in the list are dictionaries\n",
    "    #         for data in record:\n",
    "    #             if not isinstance(data, dict):\n",
    "    #                 raise TypeError(\"Each record in the list must be a dictionary\")\n",
    "\n",
    "    #         # Prepare SQL for inserting multiple records\n",
    "    #         columns = ', '.join(record[0].keys())\n",
    "    #         placeholders = ', '.join(['%s'] * len(record[0]))\n",
    "    #         sql = f\"INSERT INTO {table_name} ({columns}) VALUES ({placeholders})\"\n",
    "\n",
    "    #         # Extract the values for each record as tuples\n",
    "    #         values = [tuple(data.values()) for data in record]\n",
    "    #         cursor.executemany(sql, values)\n",
    "            \n",
    "    #     elif isinstance(record, dict):\n",
    "    #         # Prepare SQL for inserting a single record\n",
    "    #         columns = ', '.join(record.keys())\n",
    "    #         placeholders = ', '.join(['%s'] * len(record))\n",
    "    #         sql = f\"INSERT INTO {table_name} ({columns}) VALUES ({placeholders})\"\n",
    "\n",
    "    #         # Extract the values as a tuple\n",
    "    #         values = tuple(record.values())\n",
    "    #         cursor.execute(sql, values)\n",
    "    #     else:\n",
    "    #         raise TypeError(\"Record must be a dictionary or a list of dictionaries\")\n",
    "\n",
    "    #     # Commit the transaction\n",
    "    #     connection.commit()\n",
    "    #     print(f\"Record(s) inserted into {table_name}.\")\n",
    "        \n",
    "    #     cursor.close()\n",
    "    #     connection.close()\n",
    "    \n",
    "    @ensure_annotations\n",
    "    def insert_single_record(self, record: dict,table_name: Optional[str] = None,database_name:Optional[str] = None):\n",
    "        \"\"\"Insert a single record into the specified MySQL table.\"\"\"\n",
    "        # Connect to MySQL\n",
    "        connection = mysql.connector.connect(\n",
    "            host=self.host,\n",
    "            user=self.user,\n",
    "            password=self.password,\n",
    "            database=database_name\n",
    "        )\n",
    "        cursor = connection.cursor()\n",
    "\n",
    "        # Prepare SQL for inserting a single record\n",
    "        columns = ', '.join(record.keys())\n",
    "        placeholders = ', '.join(['%s'] * len(record))\n",
    "        sql = f\"INSERT INTO {table_name} ({columns}) VALUES ({placeholders})\"\n",
    "\n",
    "        # Extract the values as a tuple\n",
    "        values = tuple(record.values())\n",
    "\n",
    "        cursor.execute(sql, values)\n",
    "\n",
    "        # Commit the transaction\n",
    "        connection.commit()\n",
    "        print(f\"Single record inserted into {table_name}.\")\n",
    "\n",
    "        # Close the cursor and connection\n",
    "        cursor.close()\n",
    "        connection.close()\n",
    "\n",
    "    @ensure_annotations\n",
    "    def insert_multiple_records(self, records: list, table_name: Optional[str] = None, database_name: Optional[str] = None):\n",
    "        \"\"\"Insert multiple records into the specified MySQL table.\"\"\"\n",
    "        if not records:\n",
    "            print(\"No records provided to insert.\")\n",
    "            return\n",
    "\n",
    "        if not isinstance(records, list) or not all(isinstance(record, dict) for record in records):\n",
    "            raise TypeError(\"Records must be a list of dictionaries.\")\n",
    "\n",
    "        # Connect to MySQL\n",
    "        connection = mysql.connector.connect(\n",
    "            host=self.host,\n",
    "            user=self.user,\n",
    "            password=self.password,\n",
    "            database=database_name\n",
    "        )\n",
    "        cursor = connection.cursor()\n",
    "\n",
    "        # Prepare SQL for inserting multiple records\n",
    "        columns = ', '.join(records[0].keys())\n",
    "        placeholders = ', '.join(['%s'] * len(records[0]))\n",
    "        sql = f\"INSERT INTO {table_name} ({columns}) VALUES ({placeholders})\"\n",
    "\n",
    "        # Extract the values for each record as tuples\n",
    "        values_list = [tuple(record.values()) for record in records]\n",
    "\n",
    "        cursor.executemany(sql, values_list)\n",
    "\n",
    "        # Commit the transaction\n",
    "        connection.commit()\n",
    "        print(f\"Multiple records inserted into {table_name}.\")\n",
    "\n",
    "        # Close the cursor and connection\n",
    "        cursor.close()\n",
    "        connection.close()\n",
    "\n",
    "        \n",
    "    @ensure_annotations\n",
    "    def bulk_insert(self, datafile: str, table_name: Optional[str] = None, database_name:Optional[str] = None,unique_field: Optional[str] = None):\n",
    "        \"\"\"Bulk insert records from a CSV or Excel file.\"\"\"\n",
    "        # connection = self.create_connection()\n",
    "        connection = mysql.connector.connect(\n",
    "        host=self.host,\n",
    "        user=self.user,\n",
    "        password=self.password,\n",
    "        database=database_name  # Specify the database here\n",
    "        )\n",
    "        \n",
    "        cursor = connection.cursor()\n",
    "\n",
    "        if datafile.endswith('.csv'):\n",
    "            data = pd.read_csv(datafile)\n",
    "        elif datafile.endswith('.xlsx'):\n",
    "            data = pd.read_excel(datafile)\n",
    "        \n",
    "        data_json = json.loads(data.to_json(orient='records'))\n",
    "\n",
    "        for record in data_json:\n",
    "            columns = ', '.join(record.keys())\n",
    "            placeholders = ', '.join(['%s'] * len(record))\n",
    "            if unique_field:\n",
    "                select_query = f\"SELECT COUNT(*) FROM {table_name} WHERE {unique_field} = %s\"\n",
    "                cursor.execute(select_query, (record[unique_field],))\n",
    "                result = cursor.fetchone()\n",
    "                if result[0] == 0:\n",
    "                    sql = f\"INSERT INTO {table_name} ({columns}) VALUES ({placeholders})\"\n",
    "                    cursor.execute(sql, tuple(record.values()))\n",
    "                else:\n",
    "                    print(f\"Record with {unique_field}={record[unique_field]} already exists. Skipping insertion.\")\n",
    "            else:\n",
    "                sql = f\"INSERT INTO {table_name} ({columns}) VALUES ({placeholders})\"\n",
    "                cursor.execute(sql, tuple(record.values()))\n",
    "        \n",
    "        connection.commit()\n",
    "        print(\"Bulk insert completed.\")\n",
    "        cursor.close()\n",
    "        connection.close()\n",
    "\n",
    "    @ensure_annotations\n",
    "    def find(self, query: dict = {}, table_name: Optional[str] = None,database_name:Optional[str] = None):\n",
    "        \"\"\"Retrieve records from the specified MySQL table based on the query.\"\"\"\n",
    "        # connection = self.create_connection()\n",
    "        connection = mysql.connector.connect(\n",
    "        host=self.host,\n",
    "        user=self.user,\n",
    "        password=self.password,\n",
    "        database=database_name  # Specify the database here\n",
    "    )\n",
    "        cursor = connection.cursor(dictionary=True)  # This will return results as dictionaries\n",
    "\n",
    "        # If no query is specified, fetch all records\n",
    "        if not query:\n",
    "            sql = f\"SELECT * FROM {table_name}\"\n",
    "            cursor.execute(sql)\n",
    "        else:\n",
    "            # Construct the WHERE clause based on the query dictionary\n",
    "            conditions = ' AND '.join([f\"{key} = %s\" for key in query.keys()])\n",
    "            sql = f\"SELECT * FROM {table_name} WHERE {conditions}\"\n",
    "            cursor.execute(sql, tuple(query.values()))\n",
    "\n",
    "        # Fetch all the results\n",
    "        results = cursor.fetchall()\n",
    "\n",
    "        cursor.close()\n",
    "        connection.close()\n",
    "\n",
    "        return results\n",
    "\n",
    "    @ensure_annotations\n",
    "    def update(self, query: dict={}, new_values: dict={},table_name: Optional[str] = None,database_name:Optional[str] = None):\n",
    "        \"\"\"Update records in the MySQL table based on the query and new values.\"\"\"\n",
    "        # connection = self.create_connection()\n",
    "        connection = mysql.connector.connect(\n",
    "        host=self.host,\n",
    "        user=self.user,\n",
    "        password=self.password,\n",
    "        database=database_name  # Specify the database here\n",
    "        )\n",
    "        \n",
    "        cursor = connection.cursor()\n",
    "\n",
    "        try:\n",
    "            # Construct the SET clause from the new_values dictionary\n",
    "            set_clause = ', '.join([f\"{key} = %s\" for key in new_values.keys()])\n",
    "\n",
    "            # Construct the WHERE clause from the query dictionary\n",
    "            where_clause = ' AND '.join([f\"{key} = %s\" for key in query.keys()])\n",
    "\n",
    "            # Prepare the SQL UPDATE statement\n",
    "            sql = f\"UPDATE {table_name} SET {set_clause} WHERE {where_clause}\"\n",
    "\n",
    "            # Combine the values for SET and WHERE clauses\n",
    "            values = tuple(new_values.values()) + tuple(query.values())\n",
    "\n",
    "            # Execute the SQL statement\n",
    "            cursor.execute(sql, values)\n",
    "            connection.commit()\n",
    "\n",
    "            print(f\"Record(s) updated in {table_name} where {query}.\")\n",
    "            \n",
    "        except mysql.Error as e:  # Make sure to replace `Error` with the relevant exception class\n",
    "            print(f\"Error updating record: {e}\")\n",
    "        \n",
    "        finally:\n",
    "            cursor.close()\n",
    "            connection.close()\n",
    "\n",
    "    @ensure_annotations\n",
    "    def delete(self,query: dict={},table_name: Optional[str] = None,database_name:Optional[str] = None):\n",
    "        \"\"\"Delete records from the MySQL table based on the query.\"\"\"\n",
    "        # connection = self.create_connection()\n",
    "        connection = mysql.connector.connect(\n",
    "        host=self.host,\n",
    "        user=self.user,\n",
    "        password=self.password,\n",
    "        database=database_name  # Specify the database here\n",
    "        )\n",
    "        cursor = connection.cursor()\n",
    "\n",
    "        try:\n",
    "            # Construct the WHERE clause from the query dictionary\n",
    "            where_clause = ' AND '.join([f\"{key} = %s\" for key in query.keys()])\n",
    "\n",
    "            # Prepare the DELETE statement\n",
    "            sql = f\"DELETE FROM {table_name} WHERE {where_clause}\"\n",
    "\n",
    "            # Combine the values for the WHERE clause\n",
    "            values = tuple(query.values())\n",
    "\n",
    "            # Execute the SQL statement\n",
    "            cursor.execute(sql, values)\n",
    "            connection.commit()\n",
    "\n",
    "            print(f\"Record(s) deleted from {table_name} where {query}.\")\n",
    "        \n",
    "        except mysql.Error as e:  # Use the appropriate MySQL error handling class\n",
    "            print(f\"Error deleting record: {e}\")\n",
    "        \n",
    "        finally:\n",
    "            cursor.close()\n",
    "            connection.close()\n",
    "\n"
   ]
  },
  {
   "cell_type": "code",
   "execution_count": 227,
   "metadata": {},
   "outputs": [],
   "source": [
    "# Creating an instance of mysql_operation\n",
    "mysql_connector = mysql_operation(\n",
    "    host=\"localhost\",\n",
    "    user=\"root\",\n",
    "    password=\"Seaflux@1\",\n",
    ")"
   ]
  },
  {
   "cell_type": "code",
   "execution_count": 228,
   "metadata": {},
   "outputs": [
    {
     "name": "stdout",
     "output_type": "stream",
     "text": [
      "Connected to MySQL database\n"
     ]
    },
    {
     "data": {
      "text/plain": [
       "<mysql.connector.connection_cext.CMySQLConnection at 0x7ff778a5cdd0>"
      ]
     },
     "execution_count": 228,
     "metadata": {},
     "output_type": "execute_result"
    }
   ],
   "source": [
    "mysql_connector.create_connection()"
   ]
  },
  {
   "cell_type": "code",
   "execution_count": 217,
   "metadata": {},
   "outputs": [
    {
     "name": "stdout",
     "output_type": "stream",
     "text": [
      "Connected to MySQL server\n",
      "Database 'demo_test_1' created or already exists.\n",
      "MySQL connection is closed.\n"
     ]
    }
   ],
   "source": [
    "database_name = \"demo_test_1\"\n",
    "mysql_connector.create_database(database_name)"
   ]
  },
  {
   "cell_type": "code",
   "execution_count": 218,
   "metadata": {},
   "outputs": [],
   "source": [
    "create_table_sql = \"\"\"\n",
    "CREATE TABLE students (\n",
    "    name VARCHAR(100) NOT NULL,\n",
    "    age VARCHAR(100) NOT NULL\n",
    ");\n",
    "\"\"\""
   ]
  },
  {
   "cell_type": "code",
   "execution_count": 219,
   "metadata": {},
   "outputs": [
    {
     "name": "stdout",
     "output_type": "stream",
     "text": [
      "Connected to MySQL database: demo_test_1\n",
      "Table created successfully.\n",
      "MySQL connection is closed.\n"
     ]
    },
    {
     "data": {
      "text/plain": [
       "True"
      ]
     },
     "execution_count": 219,
     "metadata": {},
     "output_type": "execute_result"
    }
   ],
   "source": [
    "mysql_connector.create_table(create_table_sql,database_name)"
   ]
  },
  {
   "cell_type": "code",
   "execution_count": 220,
   "metadata": {},
   "outputs": [
    {
     "name": "stdout",
     "output_type": "stream",
     "text": [
      "Single record inserted into students.\n"
     ]
    }
   ],
   "source": [
    "# Example usage of one insert_record\n",
    "record = {\n",
    "    'name': 'John Doe',\n",
    "    'age': '50'\n",
    "}\n",
    "mysql_connector.insert_single_record(table_name=\"students\", database_name='demo_test_1',record=record)\n"
   ]
  },
  {
   "cell_type": "code",
   "execution_count": 229,
   "metadata": {},
   "outputs": [
    {
     "name": "stdout",
     "output_type": "stream",
     "text": [
      "Multiple records inserted into students.\n"
     ]
    }
   ],
   "source": [
    "# Example usage of many insert_record\n",
    "record =[\n",
    "    {'name': 'Abhisek','age': '55'},\n",
    "    {'name': 'Amitabh','age':'81'},\n",
    "    {'name':'Ashwaria','age':'50'}    \n",
    "    ]\n",
    "mysql_connector.insert_multiple_records(records=record,table_name=\"students\", database_name='demo_test_1')\n"
   ]
  },
  {
   "cell_type": "code",
   "execution_count": 207,
   "metadata": {},
   "outputs": [
    {
     "name": "stdout",
     "output_type": "stream",
     "text": [
      "[{'name': 'John Doe', 'age': '50'}, {'name': 'Abhisek', 'age': '55'}, {'name': 'Amitabh', 'age': '81'}, {'name': 'Ashwaria', 'age': '50'}]\n"
     ]
    }
   ],
   "source": [
    "# Find all records in the 'students' table\n",
    "database_name = 'demo_test_1'\n",
    "records = mysql_connector.find(table_name=\"students\",database_name=database_name)\n",
    "print(records)\n"
   ]
  },
  {
   "cell_type": "code",
   "execution_count": 208,
   "metadata": {},
   "outputs": [
    {
     "name": "stdout",
     "output_type": "stream",
     "text": [
      "[{'name': 'Amitabh', 'age': '81'}]\n"
     ]
    }
   ],
   "source": [
    "# Find records where the 'name' is 'Alice' and 'age' is 30\n",
    "query = {'name': 'Amitabh', 'age': 81}\n",
    "records = mysql_connector.find(query=query, table_name=\"students\",database_name=database_name)\n",
    "print(records)\n"
   ]
  },
  {
   "cell_type": "code",
   "execution_count": 209,
   "metadata": {},
   "outputs": [
    {
     "name": "stdout",
     "output_type": "stream",
     "text": [
      "Record(s) updated in students where {'name': 'Amitabh'}.\n"
     ]
    }
   ],
   "source": [
    "# Update the 'age' of the student whose 'name' is 'Alice'\n",
    "query = {'name': 'Amitabh'}\n",
    "new_values = {'age': 31}\n",
    "database_name='demo_test_1'\n",
    "\n",
    "mysql_connector.update(query=query, new_values=new_values,table_name=\"students\",database_name=database_name)\n"
   ]
  },
  {
   "cell_type": "code",
   "execution_count": 210,
   "metadata": {},
   "outputs": [
    {
     "name": "stdout",
     "output_type": "stream",
     "text": [
      "Record(s) deleted from students where {'name': 'John Doe', 'age': 50}.\n"
     ]
    }
   ],
   "source": [
    "query = {'name': \"John Doe\", 'age': 50}\n",
    "mysql_connector.delete(query=query,table_name='students',database_name='demo_test_1')\n"
   ]
  },
  {
   "cell_type": "code",
   "execution_count": 211,
   "metadata": {},
   "outputs": [
    {
     "name": "stdout",
     "output_type": "stream",
     "text": [
      "Record(s) deleted from students where {'name': 'Amitabh', 'age': 31}.\n"
     ]
    }
   ],
   "source": [
    "query = {'name': 'Amitabh','age':31}\n",
    "mysql_connector.delete(query=query,table_name='students',database_name='demo_test_1')"
   ]
  },
  {
   "cell_type": "code",
   "execution_count": 212,
   "metadata": {},
   "outputs": [
    {
     "name": "stdout",
     "output_type": "stream",
     "text": [
      "Bulk insert completed.\n"
     ]
    }
   ],
   "source": [
    "datafile = '/home/seaflux/Documents/mysqlconnectorpkg/experiments/students.csv'\n",
    "mysql_connector.bulk_insert(datafile=datafile, table_name='students',database_name='demo_test_1', unique_field='name')\n"
   ]
  },
  {
   "cell_type": "code",
   "execution_count": 213,
   "metadata": {},
   "outputs": [],
   "source": [
    "def add(a: int, b: int) -> int:\n",
    "    return a + b"
   ]
  },
  {
   "cell_type": "code",
   "execution_count": 25,
   "metadata": {},
   "outputs": [
    {
     "data": {
      "text/plain": [
       "5.5"
      ]
     },
     "execution_count": 25,
     "metadata": {},
     "output_type": "execute_result"
    }
   ],
   "source": [
    "add(2.5,3)"
   ]
  },
  {
   "cell_type": "code",
   "execution_count": 26,
   "metadata": {},
   "outputs": [],
   "source": [
    "from ensure import ensure_annotations\n",
    "\n",
    "@ensure_annotations\n",
    "def add(a: int, b: int) -> int:\n",
    "    return a + b\n",
    "\n",
    "# If you call `add(\"2\", \"3\")`, it will raise a TypeError because the arguments don't match the expected types (int).\n"
   ]
  },
  {
   "cell_type": "code",
   "execution_count": 27,
   "metadata": {},
   "outputs": [
    {
     "ename": "EnsureError",
     "evalue": "Argument a of type <class 'float'> to <function add at 0x7fd58e58cae0> does not match annotation type <class 'int'>",
     "output_type": "error",
     "traceback": [
      "\u001b[0;31m---------------------------------------------------------------------------\u001b[0m",
      "\u001b[0;31mEnsureError\u001b[0m                               Traceback (most recent call last)",
      "Cell \u001b[0;32mIn[27], line 1\u001b[0m\n\u001b[0;32m----> 1\u001b[0m \u001b[43madd\u001b[49m\u001b[43m(\u001b[49m\u001b[38;5;241;43m2.5\u001b[39;49m\u001b[43m,\u001b[49m\u001b[38;5;241;43m3\u001b[39;49m\u001b[43m)\u001b[49m\n",
      "File \u001b[0;32m~/Documents/mysqlconnectorpkg/venv/lib/python3.11/site-packages/ensure/main.py:870\u001b[0m, in \u001b[0;36mWrappedFunctionReturn.__call__\u001b[0;34m(self, *args, **kwargs)\u001b[0m\n\u001b[1;32m    868\u001b[0m     \u001b[38;5;28;01mif\u001b[39;00m \u001b[38;5;129;01mnot\u001b[39;00m \u001b[38;5;28misinstance\u001b[39m(value, templ):\n\u001b[1;32m    869\u001b[0m         msg \u001b[38;5;241m=\u001b[39m \u001b[38;5;124m\"\u001b[39m\u001b[38;5;124mArgument \u001b[39m\u001b[38;5;132;01m{arg}\u001b[39;00m\u001b[38;5;124m of type \u001b[39m\u001b[38;5;132;01m{valt}\u001b[39;00m\u001b[38;5;124m to \u001b[39m\u001b[38;5;132;01m{f}\u001b[39;00m\u001b[38;5;124m \u001b[39m\u001b[38;5;124m\"\u001b[39m \u001b[38;5;124m\"\u001b[39m\u001b[38;5;124mdoes not match annotation type \u001b[39m\u001b[38;5;132;01m{t}\u001b[39;00m\u001b[38;5;124m\"\u001b[39m\n\u001b[0;32m--> 870\u001b[0m         \u001b[38;5;28;01mraise\u001b[39;00m EnsureError(msg\u001b[38;5;241m.\u001b[39mformat(arg\u001b[38;5;241m=\u001b[39marg, f\u001b[38;5;241m=\u001b[39m\u001b[38;5;28mself\u001b[39m\u001b[38;5;241m.\u001b[39mf, t\u001b[38;5;241m=\u001b[39mtempl, valt\u001b[38;5;241m=\u001b[39m\u001b[38;5;28mtype\u001b[39m(value)))\n\u001b[1;32m    872\u001b[0m return_val \u001b[38;5;241m=\u001b[39m \u001b[38;5;28mself\u001b[39m\u001b[38;5;241m.\u001b[39mf(\u001b[38;5;241m*\u001b[39margs, \u001b[38;5;241m*\u001b[39m\u001b[38;5;241m*\u001b[39mkwargs)\n\u001b[1;32m    873\u001b[0m \u001b[38;5;28;01mif\u001b[39;00m \u001b[38;5;129;01mnot\u001b[39;00m \u001b[38;5;28misinstance\u001b[39m(return_val, \u001b[38;5;28mself\u001b[39m\u001b[38;5;241m.\u001b[39mreturn_templ):\n",
      "\u001b[0;31mEnsureError\u001b[0m: Argument a of type <class 'float'> to <function add at 0x7fd58e58cae0> does not match annotation type <class 'int'>"
     ]
    }
   ],
   "source": [
    "add(2.5,3)"
   ]
  },
  {
   "cell_type": "code",
   "execution_count": null,
   "metadata": {},
   "outputs": [],
   "source": []
  }
 ],
 "metadata": {
  "kernelspec": {
   "display_name": "venv",
   "language": "python",
   "name": "python3"
  },
  "language_info": {
   "codemirror_mode": {
    "name": "ipython",
    "version": 3
   },
   "file_extension": ".py",
   "mimetype": "text/x-python",
   "name": "python",
   "nbconvert_exporter": "python",
   "pygments_lexer": "ipython3",
   "version": "3.11.9"
  }
 },
 "nbformat": 4,
 "nbformat_minor": 2
}
